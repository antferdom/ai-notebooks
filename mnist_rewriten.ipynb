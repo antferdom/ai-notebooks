{
 "cells": [
  {
   "cell_type": "code",
   "execution_count": 17,
   "id": "e4824b01",
   "metadata": {},
   "outputs": [],
   "source": [
    "%matplotlib inline\n",
    "import numpy as np\n",
    "from tqdm import trange\n",
    "np.set_printoptions(suppress=True)"
   ]
  },
  {
   "cell_type": "code",
   "execution_count": 32,
   "id": "6feadfb0",
   "metadata": {},
   "outputs": [],
   "source": [
    "# load the mnist dataset\n",
    "\n",
    "def fetch(url):\n",
    "  import requests, gzip, os, hashlib, numpy\n",
    "  fp = os.path.join(\"/tmp\", hashlib.md5(url.encode('utf-8')).hexdigest())\n",
    "  if os.path.isfile(fp):\n",
    "    with open(fp, \"rb\") as f:\n",
    "      dat = f.read()\n",
    "  else:\n",
    "    with open(fp, \"wb\") as f:\n",
    "      dat = requests.get(url).content\n",
    "      f.write(dat)\n",
    "  return numpy.frombuffer(gzip.decompress(dat), dtype=np.uint8).copy()\n",
    "X_train = fetch(\"http://yann.lecun.com/exdb/mnist/train-images-idx3-ubyte.gz\")[0x10:].reshape((-1, 28, 28))\n",
    "Y_train = fetch(\"http://yann.lecun.com/exdb/mnist/train-labels-idx1-ubyte.gz\")[8:]\n",
    "X_test = fetch(\"http://yann.lecun.com/exdb/mnist/t10k-images-idx3-ubyte.gz\")[0x10:].reshape((-1, 28, 28))\n",
    "Y_test = fetch(\"http://yann.lecun.com/exdb/mnist/t10k-labels-idx1-ubyte.gz\")[8:]"
   ]
  },
  {
   "cell_type": "code",
   "execution_count": 34,
   "id": "0090ce86",
   "metadata": {},
   "outputs": [
    {
     "data": {
      "text/plain": [
       "(28, 28)"
      ]
     },
     "execution_count": 34,
     "metadata": {},
     "output_type": "execute_result"
    }
   ],
   "source": [
    "X_train[0].shape"
   ]
  },
  {
   "cell_type": "code",
   "execution_count": 93,
   "id": "24f2360c",
   "metadata": {},
   "outputs": [],
   "source": [
    "import torch\n",
    "import torch.nn as nn\n",
    "import torch.nn.functional as F\n",
    "torch.set_printoptions(sci_mode=False)\n",
    "\n",
    "class BobNet(torch.nn.Module):\n",
    "    def __init__(self):\n",
    "        super(BobNet, self).__init__()\n",
    "        self.l1 = nn.Linear(784, 128)\n",
    "        self.act = nn.ReLU()\n",
    "        self.l2 = nn.Linear(128, 10)\n",
    "    def forward(self, x):\n",
    "        x = F.relu(self.l1(x))\n",
    "        x = self.l2(x)\n",
    "        x = self.act(x)\n",
    "        return x\n",
    "    \n",
    "# instantiate the model\n",
    "model = BobNet()"
   ]
  },
  {
   "cell_type": "code",
   "execution_count": 94,
   "id": "a23d1f7f",
   "metadata": {},
   "outputs": [
    {
     "name": "stdout",
     "output_type": "stream",
     "text": [
      "60000\n"
     ]
    },
    {
     "data": {
      "text/plain": [
       "array([19859, 14386, 18771])"
      ]
     },
     "execution_count": 94,
     "metadata": {},
     "output_type": "execute_result"
    }
   ],
   "source": [
    "# how to easyly sample?\n",
    "# given the training set, randomly sample elements accordingly to the batch size\n",
    "print(X_train.shape[0])\n",
    "np.random.randint(0, X_train.shape[0], size=3)"
   ]
  },
  {
   "cell_type": "code",
   "execution_count": 95,
   "id": "14c96b99",
   "metadata": {},
   "outputs": [
    {
     "name": "stderr",
     "output_type": "stream",
     "text": [
      "loss 0.55 accuracy 0.81: 100%|█████████████████████████| 1000/1000 [00:01<00:00, 699.36it/s]\n"
     ]
    }
   ],
   "source": [
    "# simple training loop\n",
    "BS = 32 # batch size as a constant\n",
    "loss_function = torch.nn.CrossEntropyLoss()\n",
    "optim = torch.optim.Adam(model.parameters(), lr=0.0001)\n",
    "losses, accuracies = [], []\n",
    "\n",
    "\n",
    "for i in (t := trange(1000)):\n",
    "    samp = np.random.randint(0, X_train.shape[0], size=(BS))\n",
    "    X = torch.tensor(X_train[samp].reshape((-1, 28*28))).float()\n",
    "    Y = torch.tensor(Y_train[samp]).long()\n",
    "    optim.zero_grad()\n",
    "    out = model(X)\n",
    "    cat = torch.argmax(out, dim=1) # prediction equals the highest probability element\n",
    "    accuracy = (cat == Y).float().mean() # quantify how many times the prediction matches the ground truth.\n",
    "    loss = loss_function(out, Y)\n",
    "    loss.backward() # backpropagation\n",
    "    optim.step() # computed gradients\n",
    "    loss, accuracy = loss.item(), accuracy.item()\n",
    "    losses.append(loss)\n",
    "    accuracies.append(accuracy)\n",
    "    t.set_description(\"loss %.2f accuracy %.2f\" % (loss, accuracy))"
   ]
  },
  {
   "cell_type": "code",
   "execution_count": 96,
   "id": "369acf6a",
   "metadata": {},
   "outputs": [
    {
     "data": {
      "text/plain": [
       "[<matplotlib.lines.Line2D at 0x165b8cd90>]"
      ]
     },
     "execution_count": 96,
     "metadata": {},
     "output_type": "execute_result"
    },
    {
     "data": {
      "image/png": "[encoded data removed]",
      "text/plain": [
       "<Figure size 432x288 with 1 Axes>"
      ]
     },
     "metadata": {
      "needs_background": "light"
     },
     "output_type": "display_data"
    }
   ],
   "source": [
    "plt.ylim(-1, 2)\n",
    "plot(losses)\n",
    "plot(accuracies)"
   ]
  },
  {
   "cell_type": "code",
   "execution_count": 77,
   "id": "8df80436",
   "metadata": {},
   "outputs": [
    {
     "data": {
      "text/plain": [
       "tensor([[-3.0213e-01, -3.3789e-01,  3.6760e-01,  2.1675e-01, -1.1322e-01,\n",
       "          1.4784e-01, -1.6583e-01, -3.1081e-01,  3.5904e-01,  2.1607e-01],\n",
       "        [ 2.2547e+02, -1.7325e+02, -4.7388e+01, -2.1370e+02,  3.1691e+01,\n",
       "         -2.2288e+01,  4.6448e+01, -1.1868e+02, -1.3362e+02, -2.0692e+02],\n",
       "        [-3.9820e+01, -2.0903e+02, -6.8650e+01, -1.9833e+02,  1.9225e+02,\n",
       "          7.8484e+01, -1.1578e+02,  1.3703e+01, -1.7097e+02,  8.3251e+01],\n",
       "        [-3.0213e-01, -3.3789e-01,  3.6760e-01,  2.1675e-01, -1.1322e-01,\n",
       "          1.4784e-01, -1.6583e-01, -3.1081e-01,  3.5904e-01,  2.1607e-01],\n",
       "        [-3.0213e-01, -3.3789e-01,  3.6760e-01,  2.1675e-01, -1.1322e-01,\n",
       "          1.4784e-01, -1.6583e-01, -3.1081e-01,  3.5904e-01,  2.1607e-01],\n",
       "        [-3.0213e-01, -3.3789e-01,  3.6760e-01,  2.1675e-01, -1.1322e-01,\n",
       "          1.4784e-01, -1.6583e-01, -3.1081e-01,  3.5904e-01,  2.1607e-01],\n",
       "        [-7.2788e+01,  9.4434e+01,  1.3883e+01, -1.4804e+01, -1.1532e+02,\n",
       "         -7.2544e+01, -1.0765e+01,  2.7141e+01,  3.8922e+00, -4.0439e+01],\n",
       "        [-3.0213e-01, -3.3789e-01,  3.6760e-01,  2.1675e-01, -1.1322e-01,\n",
       "          1.4784e-01, -1.6583e-01, -3.1081e-01,  3.5904e-01,  2.1607e-01],\n",
       "        [-1.0238e+02,  1.3313e+02,  1.9402e+01, -2.0937e+01, -1.6236e+02,\n",
       "         -1.0222e+02, -1.5093e+01,  3.8349e+01,  5.3348e+00, -5.7039e+01],\n",
       "        [ 8.2904e+01, -2.4154e+02, -1.4771e+02, -1.1797e+02,  1.9630e+02,\n",
       "          1.2649e+02, -1.8829e+02, -6.7814e+01, -1.3132e+02,  1.6370e+02]],\n",
       "       grad_fn=<AddmmBackward0>)"
      ]
     },
     "execution_count": 77,
     "metadata": {},
     "output_type": "execute_result"
    }
   ],
   "source": [
    "# run the model\n",
    "model(torch.tensor(X_train[0:10].reshape((-1, 28*28))).float())"
   ]
  },
  {
   "cell_type": "code",
   "execution_count": 10,
   "id": "1943e475",
   "metadata": {},
   "outputs": [
    {
     "data": {
      "text/plain": [
       "(60000, 784)"
      ]
     },
     "execution_count": 10,
     "metadata": {},
     "output_type": "execute_result"
    }
   ],
   "source": [
    "X_train.reshape(-1, 28*28).shape"
   ]
  },
  {
   "cell_type": "code",
   "execution_count": 20,
   "id": "2e3ccba7",
   "metadata": {},
   "outputs": [
    {
     "data": {
      "text/plain": [
       "(<matplotlib.image.AxesImage at 0x1378e5940>, 5)"
      ]
     },
     "execution_count": 20,
     "metadata": {},
     "output_type": "execute_result"
    },
    {
     "data": {
      "image/png": "[encoded data removed]",
      "text/plain": [
       "<Figure size 432x288 with 1 Axes>"
      ]
     },
     "metadata": {
      "needs_background": "light"
     },
     "output_type": "display_data"
    }
   ],
   "source": [
    "imshow(X_train[0]), Y_train[0]"
   ]
  },
  {
   "cell_type": "code",
   "execution_count": null,
   "id": "85d0bd11",
   "metadata": {},
   "outputs": [],
   "source": []
  }
 ],
 "metadata": {
  "kernelspec": {
   "display_name": "Python 3 (ipykernel)",
   "language": "python",
   "name": "python3"
  },
  "language_info": {
   "codemirror_mode": {
    "name": "ipython",
    "version": 3
   },
   "file_extension": ".py",
   "mimetype": "text/x-python",
   "name": "python",
   "nbconvert_exporter": "python",
   "pygments_lexer": "ipython3",
   "version": "3.8.13"
  }
 },
 "nbformat": 4,
 "nbformat_minor": 5
}
