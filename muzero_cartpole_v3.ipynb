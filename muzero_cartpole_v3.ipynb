{
 "cells": [
  {
   "cell_type": "code",
   "execution_count": 1,
   "metadata": {},
   "outputs": [],
   "source": [
    "# this is MuZero!\n",
    "# https://arxiv.org/abs/1911.08265\n",
    "# It works, but only for CartPole\n",
    "# Would be happy if it worked for Follower, LunarLander, or Acrobot\n",
    "# Also, while it's written, it's not using mcts.\n",
    "# Replace naive_search(which tries n**K) with mcts_search to use"
   ]
  },
  {
   "cell_type": "code",
   "execution_count": 1,
   "metadata": {},
   "outputs": [],
   "source": [
    "%load_ext autoreload\n",
    "%autoreload 2\n",
    "%matplotlib inline\n",
    "import tensorflow as tf\n",
    "import numpy as np\n",
    "import gym\n",
    "from tqdm import tqdm, trange\n",
    "import os,sys\n",
    "sys.path.append(os.getcwd())"
   ]
  },
  {
   "cell_type": "code",
   "execution_count": 2,
   "metadata": {},
   "outputs": [
    {
     "name": "stdout",
     "output_type": "stream",
     "text": [
      "2.8.0\n"
     ]
    }
   ],
   "source": [
    "print(tf.__version__)"
   ]
  },
  {
   "cell_type": "code",
   "execution_count": 3,
   "metadata": {},
   "outputs": [
    {
     "name": "stdout",
     "output_type": "stream",
     "text": [
      "[PhysicalDevice(name='/physical_device:CPU:0', device_type='CPU')]\n",
      "tf.Tensor([-1.1339291   0.09491836], shape=(2,), dtype=float32)\n",
      "tf.Tensor([0.         0.09491836], shape=(2,), dtype=float32)\n"
     ]
    }
   ],
   "source": [
    "print(tf.config.list_physical_devices())\n",
    "with tf.device('/GPU'):\n",
    "  a = tf.random.normal(shape=(2,), dtype=tf.float32)\n",
    "  b = tf.nn.relu(a)\n",
    "\n",
    "print(a)\n",
    "print(b)"
   ]
  },
  {
   "cell_type": "code",
   "execution_count": 4,
   "metadata": {},
   "outputs": [
    {
     "data": {
      "text/plain": [
       "[name: \"/device:CPU:0\"\n",
       " device_type: \"CPU\"\n",
       " memory_limit: 268435456\n",
       " locality {\n",
       " }\n",
       " incarnation: 3110921097457617439\n",
       " xla_global_id: -1]"
      ]
     },
     "execution_count": 4,
     "metadata": {},
     "output_type": "execute_result"
    }
   ],
   "source": [
    "from tensorflow.python.client import device_lib\n",
    "\n",
    "device_lib.list_local_devices()"
   ]
  },
  {
   "cell_type": "code",
   "execution_count": 5,
   "metadata": {},
   "outputs": [
    {
     "name": "stdout",
     "output_type": "stream",
     "text": [
      "(4,) 2\n"
     ]
    }
   ],
   "source": [
    "# Make Follower work! Will give interview to anyone who does.\n",
    "from muzero.follower import Follower\n",
    "#env = Follower()\n",
    "env = gym.make(\"CartPole-v0\")\n",
    "#env = gym.make(\"MountainCar-v0\")\n",
    "#env = gym.make(\"LunarLander-v2\")\n",
    "#env = gym.make(\"Acrobot-v1\")\n",
    "\n",
    "from muzero.model import MuModel\n",
    "m = MuModel(env.observation_space.shape, env.action_space.n, s_dim=128, K=3, lr=0.001)\n",
    "print(env.observation_space.shape, env.action_space.n)\n",
    "\n",
    "from muzero.game import Game, ReplayBuffer\n",
    "from muzero.mcts import naive_search, mcts_search\n",
    "replay_buffer = ReplayBuffer(50, 128, m.K)\n",
    "rews = []"
   ]
  },
  {
   "cell_type": "code",
   "execution_count": 6,
   "metadata": {},
   "outputs": [],
   "source": [
    "def play_game(env, m):\n",
    "  import random\n",
    "  game = Game(env, discount=0.997)\n",
    "  while not game.terminal():\n",
    "    game.env.render()\n",
    "    cc = random.random()\n",
    "    if cc < 0.05:\n",
    "      policy = [1/m.a_dim]*m.a_dim\n",
    "    else:\n",
    "      policy = naive_search(m, game.observation, T=1)\n",
    "    game.act_with_policy(policy)\n",
    "  return game"
   ]
  },
  {
   "cell_type": "code",
   "execution_count": 7,
   "metadata": {},
   "outputs": [
    {
     "name": "stderr",
     "output_type": "stream",
     "text": [
      "2022-05-15 22:08:16.450083: W tensorflow/core/platform/profile_utils/cpu_utils.cc:128] Failed to get CPU frequency: 0 Hz\n"
     ]
    },
    {
     "name": "stdout",
     "output_type": "stream",
     "text": [
      "22 22.0 Counter({0: 16, 1: 6}) 55.75950241088867\n",
      "12 12.0 Counter({1: 8, 0: 4}) 121.04840087890625\n",
      "17 17.0 Counter({1: 11, 0: 6}) 108.85542297363281\n",
      "10 10.0 Counter({1: 8, 0: 2}) 48.28778839111328\n",
      "11 11.0 Counter({1: 9, 0: 2}) 33.96978759765625\n",
      "48 48.0 Counter({0: 28, 1: 20}) 297.8573913574219\n",
      "190 190.0 Counter({1: 102, 0: 88}) 2397.211181640625\n",
      "24 24.0 Counter({0: 14, 1: 10}) 1678.2955322265625\n",
      "18 18.0 Counter({0: 9, 1: 9}) 3064.04345703125\n",
      "10 10.0 Counter({1: 8, 0: 2}) 1955.015869140625\n",
      "10 10.0 Counter({1: 9, 0: 1}) 1355.574951171875\n",
      "24 24.0 Counter({1: 16, 0: 8}) 1294.2293701171875\n",
      "13 13.0 Counter({0: 9, 1: 4}) 855.23486328125\n",
      "14 14.0 Counter({0: 7, 1: 7}) 225.72723388671875\n",
      "23 23.0 Counter({1: 16, 0: 7}) 1322.025390625\n",
      "63 63.0 Counter({0: 35, 1: 28}) 836.2350463867188\n",
      "200 200.0 Counter({1: 102, 0: 98}) 1250.576416015625\n",
      "200 200.0 Counter({1: 104, 0: 96}) 3180.537109375\n",
      "177 177.0 Counter({1: 93, 0: 84}) 4732.6689453125\n",
      "15 15.0 Counter({1: 9, 0: 6}) 3160.9169921875\n",
      "11 11.0 Counter({1: 10, 0: 1}) 4140.046875\n",
      "10 10.0 Counter({1: 9, 0: 1}) 3539.3095703125\n",
      "15 15.0 Counter({1: 10, 0: 5}) 3066.66455078125\n",
      "9 9.0 Counter({1: 8, 0: 1}) 2269.634521484375\n",
      "19 19.0 Counter({1: 11, 0: 8}) 2863.681396484375\n",
      "23 23.0 Counter({1: 14, 0: 9}) 2614.02734375\n",
      "13 13.0 Counter({1: 10, 0: 3}) 1184.66259765625\n",
      "19 19.0 Counter({1: 13, 0: 6}) 1757.89404296875\n",
      "23 23.0 Counter({0: 13, 1: 10}) 2300.720703125\n",
      "31 31.0 Counter({1: 16, 0: 15}) 2057.635498046875\n"
     ]
    }
   ],
   "source": [
    "from muzero.model import reformat_batch\n",
    "import collections\n",
    "\n",
    "for j in range(30):\n",
    "  game = play_game(env, m)\n",
    "  replay_buffer.save_game(game)\n",
    "  for i in range(20):\n",
    "    m.train_on_batch(replay_buffer.sample_batch())\n",
    "  rew = sum(game.rewards)\n",
    "  rews.append(rew)\n",
    "  print(len(game.history), rew, collections.Counter(game.history), m.losses[-1][0])"
   ]
  },
  {
   "cell_type": "code",
   "execution_count": 10,
   "metadata": {},
   "outputs": [
    {
     "ename": "NameError",
     "evalue": "name 'figure' is not defined",
     "output_type": "error",
     "traceback": [
      "\u001b[0;31m---------------------------------------------------------------------------\u001b[0m",
      "\u001b[0;31mNameError\u001b[0m                                 Traceback (most recent call last)",
      "Input \u001b[0;32mIn [10]\u001b[0m, in \u001b[0;36m<cell line: 3>\u001b[0;34m()\u001b[0m\n\u001b[1;32m      1\u001b[0m \u001b[38;5;28;01mimport\u001b[39;00m \u001b[38;5;21;01mmatplotlib\u001b[39;00m\u001b[38;5;21;01m.\u001b[39;00m\u001b[38;5;21;01mpyplot\u001b[39;00m \u001b[38;5;28;01mas\u001b[39;00m \u001b[38;5;21;01mplt\u001b[39;00m\n\u001b[1;32m      2\u001b[0m plt\u001b[38;5;241m.\u001b[39mplot(rews)\n\u001b[0;32m----> 3\u001b[0m \u001b[43mfigure\u001b[49m()\n\u001b[1;32m      4\u001b[0m plt\u001b[38;5;241m.\u001b[39myscale(\u001b[38;5;124m'\u001b[39m\u001b[38;5;124mlog\u001b[39m\u001b[38;5;124m'\u001b[39m)\n\u001b[1;32m      5\u001b[0m plt\u001b[38;5;241m.\u001b[39mplot([x[\u001b[38;5;241m0\u001b[39m] \u001b[38;5;28;01mfor\u001b[39;00m x \u001b[38;5;129;01min\u001b[39;00m m\u001b[38;5;241m.\u001b[39mlosses])\n",
      "\u001b[0;31mNameError\u001b[0m: name 'figure' is not defined"
     ]
    },
    {
     "data": {
      "image/png": "[encoded data removed]",
      "text/plain": [
       "<Figure size 432x288 with 1 Axes>"
      ]
     },
     "metadata": {
      "needs_background": "light"
     },
     "output_type": "display_data"
    }
   ],
   "source": [
    "import matplotlib.pyplot as plt\n",
    "plt.plot(rews)\n",
    "figure()\n",
    "plt.yscale('log')\n",
    "plt.plot([x[0] for x in m.losses])\n",
    "plt.plot([x[1] for x in m.losses])\n",
    "plt.plot([x[-3] for x in m.losses])"
   ]
  },
  {
   "cell_type": "code",
   "execution_count": 29,
   "metadata": {},
   "outputs": [
    {
     "name": "stderr",
     "output_type": "stream",
     "text": [
      "2022-05-14 15:42:25.773891: I tensorflow/core/grappler/optimizers/custom_graph_optimizer_registry.cc:113] Plugin optimizer for device_type GPU is enabled.\n",
      "2022-05-14 15:42:25.820710: I tensorflow/core/grappler/optimizers/custom_graph_optimizer_registry.cc:113] Plugin optimizer for device_type GPU is enabled.\n"
     ]
    },
    {
     "name": "stdout",
     "output_type": "stream",
     "text": [
      "1 -0.008646967 1.0 [7.47420596e-08 9.99999925e-01]\n",
      "1 0.12866507 1.0 [4.51027857e-08 9.99999955e-01]\n",
      "1 0.24153459 1.0 [4.47458038e-08 9.99999955e-01]\n",
      "1 0.33642784 1.0 [5.98364497e-08 9.99999940e-01]\n",
      "1 0.4178146 1.0 [8.64166554e-08 9.99999914e-01]\n",
      "1 0.48881316 1.0 [1.24498941e-07 9.99999876e-01]\n",
      "1 0.5516392 1.0 [1.83802153e-07 9.99999816e-01]\n",
      "1 0.6078521 1.0 [2.68841717e-07 9.99999731e-01]\n",
      "1 0.6585767 1.0 [3.78021156e-07 9.99999622e-01]\n",
      "DONE 8\n"
     ]
    }
   ],
   "source": [
    "# can act?\n",
    "state = env.reset()\n",
    "for sn in range(2000):\n",
    "  p_0 = naive_search(m, state, debug=False, T=0.1)\n",
    "  #p_0, _ = mcts_search(m, state, 50)\n",
    "  a_1 = np.random.choice(list(range(len(p_0))), p=p_0)\n",
    "  _, v_0 = m.ft(m.ht(state))\n",
    "  \n",
    "  env.render()\n",
    "  state,r,done,_ = env.step(a_1)\n",
    "  print(a_1, v_0, r, p_0)\n",
    "  if done:\n",
    "    print(\"DONE\", sn)\n",
    "    break"
   ]
  },
  {
   "cell_type": "code",
   "execution_count": null,
   "metadata": {},
   "outputs": [],
   "source": []
  }
 ],
 "metadata": {
  "kernelspec": {
   "display_name": "Python 3 (ipykernel)",
   "language": "python",
   "name": "python3"
  },
  "language_info": {
   "codemirror_mode": {
    "name": "ipython",
    "version": 3
   },
   "file_extension": ".py",
   "mimetype": "text/x-python",
   "name": "python",
   "nbconvert_exporter": "python",
   "pygments_lexer": "ipython3",
   "version": "3.8.13"
  }
 },
 "nbformat": 4,
 "nbformat_minor": 2
}
